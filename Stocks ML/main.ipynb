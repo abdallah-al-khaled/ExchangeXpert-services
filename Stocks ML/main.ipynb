{
 "cells": [
  {
   "cell_type": "code",
   "execution_count": 1,
   "metadata": {},
   "outputs": [],
   "source": [
    "# !pip install yfinance\n",
    "# !pip install prophet\n",
    "# !pip install matplotlib"
   ]
  },
  {
   "cell_type": "code",
   "execution_count": 2,
   "metadata": {},
   "outputs": [
    {
     "name": "stderr",
     "output_type": "stream",
     "text": [
      "c:\\Users\\fafaf\\anaconda3\\envs\\tf\\lib\\site-packages\\tqdm\\auto.py:21: TqdmWarning: IProgress not found. Please update jupyter and ipywidgets. See https://ipywidgets.readthedocs.io/en/stable/user_install.html\n",
      "  from .autonotebook import tqdm as notebook_tqdm\n",
      "Importing plotly failed. Interactive plots will not work.\n"
     ]
    }
   ],
   "source": [
    "import yfinance as yf\n",
    "import pandas as pd\n",
    "import matplotlib.pyplot as plt\n",
    "from prophet import Prophet\n",
    "from prophet.plot import plot_plotly, plot_components_plotly"
   ]
  },
  {
   "cell_type": "code",
   "execution_count": 3,
   "metadata": {},
   "outputs": [],
   "source": [
    "stock_symbols = [\n",
    "    'AAPL', 'MSFT', 'GOOGL', 'AMZN', 'TSLA', 'NVDA', 'meta', 'JPM', 'JNJ', 'V',\n",
    "    'PG', 'DIS', 'MA', 'UNH', 'HD', 'PYPL', 'BAC', 'NFLX', 'XOM', 'VZ',\n",
    "    'KO', 'PEP', 'MRK', 'INTC', 'T', 'PFE', 'CSCO', 'WMT', 'BA', 'NKE',\n",
    "    'GS', 'MCD', 'ADBE', 'COST', 'IBM', 'CRM', 'ORCL', 'WFC', 'MDT', 'C',\n",
    "    # Add more symbols to reach 500\n",
    "]"
   ]
  },
  {
   "cell_type": "code",
   "execution_count": 4,
   "metadata": {},
   "outputs": [],
   "source": [
    "# Fetch historical data for a single stock from Yahoo Finance\n",
    "def fetch_stock_data(symbol, start_date='2015-01-01'):\n",
    "    data = yf.download(symbol, start=start_date)\n",
    "    data.reset_index(inplace=True)\n",
    "    # Prophet requires columns as 'ds' and 'y'\n",
    "    stock_data = data[['Date', 'Close']].rename(columns={'Date': 'ds', 'Close': 'y'})\n",
    "    return stock_data"
   ]
  },
  {
   "cell_type": "code",
   "execution_count": 5,
   "metadata": {},
   "outputs": [],
   "source": [
    "# Configure and train Prophet model for each stock\n",
    "def train_prophet(stock_data, stock_name, yearly_seasonality=True, daily_seasonality=False, holidays=None, changepoint_prior_scale=0.05):\n",
    "    # Initialize Prophet with customized parameters\n",
    "    m = Prophet(yearly_seasonality=yearly_seasonality,\n",
    "                    daily_seasonality=daily_seasonality,\n",
    "                    holidays=holidays,\n",
    "                    changepoint_prior_scale=changepoint_prior_scale)\n",
    "\n",
    "    # Fit the model to stock data\n",
    "    m.fit(stock_data)\n",
    "\n",
    "    # Forecast for the next 365 days\n",
    "    future = m.make_future_dataframe(periods=365)\n",
    "    forecast = m.predict(future)\n",
    "\n",
    "    # Plot forecast\n",
    "    fig = m.plot(forecast)\n",
    "    plt.title(f'Forecast for {stock_name}')\n",
    "    plt.show()\n",
    "\n",
    "    # Return the forecast for further analysis\n",
    "    return forecast"
   ]
  },
  {
   "cell_type": "code",
   "execution_count": 6,
   "metadata": {},
   "outputs": [],
   "source": [
    "# Function to iterate over all stocks and forecast their prices\n",
    "def forecast_stocks(symbols, start_date='2015-01-01'):\n",
    "    for symbol in symbols:\n",
    "        print(f\"Processing stock: {symbol}\")\n",
    "        # Fetch stock data\n",
    "        stock_data = fetch_stock_data(symbol, start_date)\n",
    "\n",
    "        # Train Prophet model\n",
    "        forecast = train_prophet(stock_data, symbol)\n",
    "\n",
    "        # Save the forecast as CSV\n",
    "        forecast.to_csv(f'forecast_{symbol}.csv', index=False)"
   ]
  },
  {
   "cell_type": "code",
   "execution_count": 7,
   "metadata": {},
   "outputs": [],
   "source": [
    "# Customize Prophet parameters (you can tweak them in the notebook)\n",
    "yearly_seasonality = True\n",
    "daily_seasonality = False\n",
    "holidays = None  # You can define holidays if needed\n",
    "changepoint_prior_scale = 0.05  # Control the flexibility of the model"
   ]
  }
 ],
 "metadata": {
  "kernelspec": {
   "display_name": "tf",
   "language": "python",
   "name": "python3"
  },
  "language_info": {
   "codemirror_mode": {
    "name": "ipython",
    "version": 3
   },
   "file_extension": ".py",
   "mimetype": "text/x-python",
   "name": "python",
   "nbconvert_exporter": "python",
   "pygments_lexer": "ipython3",
   "version": "3.9.17"
  }
 },
 "nbformat": 4,
 "nbformat_minor": 2
}
