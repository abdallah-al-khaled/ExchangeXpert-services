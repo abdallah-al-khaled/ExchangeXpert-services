{
 "cells": [
  {
   "cell_type": "code",
   "execution_count": null,
   "metadata": {},
   "outputs": [],
   "source": [
    "import requests\n",
    "from bs4 import BeautifulSoup\n",
    "from transformers import BertTokenizer, BertForSequenceClassification\n",
    "from transformers import pipeline\n",
    "import torch\n",
    "import pandas as pd"
   ]
  },
  {
   "cell_type": "code",
   "execution_count": null,
   "metadata": {},
   "outputs": [],
   "source": [
    "# Load the FinBERT sentiment analysis model\n",
    "tokenizer = BertTokenizer.from_pretrained('ProsusAI/finbert')\n",
    "model = BertForSequenceClassification.from_pretrained('ProsusAI/finbert')"
   ]
  },
  {
   "cell_type": "code",
   "execution_count": null,
   "metadata": {},
   "outputs": [],
   "source": [
    "finbert = pipeline(\"sentiment-analysis\", model=model, tokenizer=tokenizer)"
   ]
  },
  {
   "cell_type": "code",
   "execution_count": null,
   "metadata": {},
   "outputs": [],
   "source": [
    "\n",
    "headers = {\n",
    "    'User-Agent': 'Mozilla/5.0 (Windows NT 10.0; Win64; x64) AppleWebKit/537.36 (KHTML, like Gecko)'\n",
    "                  ' Chrome/91.0.4472.124 Safari/537.36',\n",
    "    'Accept-Language': 'en-US,en;q=0.5',\n",
    "    'Accept-Encoding': 'gzip, deflate, br',\n",
    "    'Connection': 'keep-alive',\n",
    "}"
   ]
  },
  {
   "cell_type": "code",
   "execution_count": null,
   "metadata": {},
   "outputs": [],
   "source": [
    "url = 'https://en.wikipedia.org/wiki/List_of_S%26P_500_companies'"
   ]
  },
  {
   "cell_type": "code",
   "execution_count": null,
   "metadata": {},
   "outputs": [],
   "source": [
    "sp500_table = pd.read_html(url)[0]"
   ]
  },
  {
   "cell_type": "code",
   "execution_count": null,
   "metadata": {},
   "outputs": [],
   "source": [
    "sp500_table = sp500_table['Symbol'].tolist()\n",
    "sp500_table"
   ]
  },
  {
   "cell_type": "code",
   "execution_count": null,
   "metadata": {},
   "outputs": [],
   "source": [
    "for stock in sp500_table:\n",
    "    url = f\"https://finance.yahoo.com/quote/{stock}/news?p={stock}\"\n",
    "    response = requests.get(url, headers=headers)\n",
    "    if response.status_code == 200:\n",
    "        soup = BeautifulSoup(response.content, 'html.parser')\n",
    "        news_items = soup.find_all('li', class_='stream-item')\n",
    "        \n",
    "        sentiment_scores = []\n",
    "        print(f\"\\nScraped Headlines and Sentiment Scores for {stock}:\")\n",
    "        \n",
    "        for i, item in enumerate(news_items):    \n",
    "            headline_tag = item.find('h3')\n",
    "            headline = headline_tag.get_text().strip() if headline_tag else ''\n",
    "            \n",
    "            description_tag = item.find('p')\n",
    "            description = description_tag.get_text().strip() if description_tag else ''\n",
    "            \n",
    "            text = f\"{headline} {description}\"\n",
    "            \n",
    "            if description and headline:\n",
    "                finbert_result = finbert(text)[0]\n",
    "                \n",
    "                sentiment_score = finbert_result['score']\n",
    "                sentiment_label = finbert_result['label']\n",
    "                \n",
    "                if sentiment_label == 'positive' or sentiment_label == 'negative':\n",
    "                    if sentiment_label == 'negative':\n",
    "                        sentiment_score = -sentiment_score \n",
    "                    sentiment_scores.append(sentiment_score)\n",
    "                \n",
    "                print(f\"{i+1}. Headline: {headline}\")\n",
    "                print(f\"   Description: {description}\")\n",
    "                print(f\"   Sentiment: {sentiment_label}, Score: {sentiment_score:.4f}\")\n",
    "                print('-' * 80)\n",
    "                \n",
    "        if sentiment_scores:\n",
    "            average_sentiment = sum(sentiment_scores) / len(sentiment_scores)\n",
    "            print(f\"Average Sentiment Score for {stock}: {average_sentiment:.4f}\")"
   ]
  }
 ],
 "metadata": {
  "language_info": {
   "name": "python"
  }
 },
 "nbformat": 4,
 "nbformat_minor": 2
}
