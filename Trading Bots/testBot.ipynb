{
 "cells": [
  {
   "cell_type": "code",
   "execution_count": 1,
   "metadata": {},
   "outputs": [],
   "source": [
    "import os\n",
    "import json\n",
    "import asyncio\n",
    "import websockets\n",
    "import requests\n",
    "from alpaca_trade_api.rest import REST, TimeFrame\n",
    "from dotenv import load_dotenv"
   ]
  },
  {
   "cell_type": "code",
   "execution_count": 2,
   "metadata": {},
   "outputs": [],
   "source": [
    "load_dotenv()\n",
    "APCA_API_KEY_ID = os.getenv('APCA_API_KEY_ID')\n",
    "APCA_API_SECRET_KEY = os.getenv('APCA_API_SECRET_KEY')"
   ]
  },
  {
   "cell_type": "code",
   "execution_count": 3,
   "metadata": {},
   "outputs": [],
   "source": [
    "alpaca = REST(APCA_API_KEY_ID, APCA_API_SECRET_KEY, base_url=\"https://paper-api.alpaca.markets\")"
   ]
  },
  {
   "cell_type": "code",
   "execution_count": 4,
   "metadata": {},
   "outputs": [],
   "source": [
    "ws_url = \"wss://stream.data.alpaca.markets/v1beta1/news\""
   ]
  },
  {
   "cell_type": "code",
   "execution_count": null,
   "metadata": {},
   "outputs": [],
   "source": [
    "async def authenticate_and_subscribe(ws):\n",
    "    # Authenticate with Alpaca's WebSocket\n",
    "    auth_msg = {\n",
    "        \"action\": \"auth\",\n",
    "        \"key\": APCA_API_KEY_ID,\n",
    "        \"secret\": APCA_API_SECRET_KEY\n",
    "    }\n",
    "    await ws.send(json.dumps(auth_msg))\n",
    "\n",
    "    # Subscribe to all news feeds\n",
    "    subscribe_msg = {\n",
    "        \"action\": \"subscribe\",\n",
    "        \"news\": [\"*\"]  # [\"TSLA\"] for specific stocks\n",
    "    }\n",
    "    await ws.send(json.dumps(subscribe_msg))"
   ]
  }
 ],
 "metadata": {
  "kernelspec": {
   "display_name": "tf",
   "language": "python",
   "name": "python3"
  },
  "language_info": {
   "codemirror_mode": {
    "name": "ipython",
    "version": 3
   },
   "file_extension": ".py",
   "mimetype": "text/x-python",
   "name": "python",
   "nbconvert_exporter": "python",
   "pygments_lexer": "ipython3",
   "version": "3.9.17"
  }
 },
 "nbformat": 4,
 "nbformat_minor": 2
}
