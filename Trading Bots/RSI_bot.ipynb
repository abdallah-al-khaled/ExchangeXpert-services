{
 "cells": [
  {
   "cell_type": "code",
   "execution_count": null,
   "metadata": {},
   "outputs": [],
   "source": [
    "import pandas as pd\n",
    "import yfinance as yf\n",
    "import matplotlib.pyplot as plt\n",
    "import alpaca_trade_api as tradeapi\n",
    "from ta.momentum import RSIIndicator\n",
    "from ta.trend import SMAIndicator, EMAIndicator\n",
    "import datetime as dt\n",
    "import time\n",
    "\n",
    "import os\n",
    "\n",
    "# Load environment variables from the .env file\n",
    "load_dotenv()\n",
    "\n",
    "API_KEY = os.getenv('API_KEY')\n",
    "API_SECRET = os.getenv('API_SECRET')\n",
    "APCA_API_BASE_URL = 'https://paper-api.alpaca.markets'  # Use paper trading URL\n",
    "\n",
    "# Initialize Alpaca API\n",
    "api = tradeapi.REST(API_KEY, API_SECRET, APCA_API_BASE_URL, api_version='v2')\n"
   ]
  },
  {
   "cell_type": "code",
   "execution_count": null,
   "metadata": {},
   "outputs": [],
   "source": [
    "def get_historical_data(symbol, start_date, end_date, interval='1d'):\n",
    "    data = yf.download(symbol, start=start_date, end=end_date, interval=interval)\n",
    "    data.dropna(inplace=True)\n",
    "    return data"
   ]
  },
  {
   "cell_type": "code",
   "execution_count": null,
   "metadata": {},
   "outputs": [],
   "source": [
    "def apply_rsi_strategy(data, window=14):\n",
    "    rsi = RSIIndicator(data['Close'], window=window)\n",
    "    data['RSI'] = rsi.rsi()\n",
    "    data['Signal'] = 0\n",
    "    data['Signal'][rsi.rsi() < 30] = 1  # Buy signal\n",
    "    data['Signal'][rsi.rsi() > 70] = -1  # Sell signal\n",
    "    data['Position'] = data['Signal'].replace(to_replace=0, method='ffill')\n",
    "    return data\n"
   ]
  },
  {
   "cell_type": "code",
   "execution_count": null,
   "metadata": {},
   "outputs": [],
   "source": [
    "def apply_ma_crossover_strategy(data, slow_window=50, fast_window=20):\n",
    "    slow_ma = SMAIndicator(data['Close'], window=slow_window)\n",
    "    fast_ma = SMAIndicator(data['Close'], window=fast_window)\n",
    "    data['Slow_MA'] = slow_ma.sma_indicator()\n",
    "    data['Fast_MA'] = fast_ma.sma_indicator()\n",
    "    data['Signal'] = 0\n",
    "    data['Signal'][fast_ma.sma_indicator() > slow_ma.sma_indicator()] = 1  # Buy signal\n",
    "    data['Signal'][fast_ma.sma_indicator() < slow_ma.sma_indicator()] = -1  # Sell signal\n",
    "    data['Position'] = data['Signal'].replace(to_replace=0, method='ffill')\n",
    "    return data\n"
   ]
  },
  {
   "cell_type": "code",
   "execution_count": null,
   "metadata": {},
   "outputs": [],
   "source": [
    "def apply_ma_crossover_strategy(data, slow_window=50, fast_window=20):\n",
    "    slow_ma = SMAIndicator(data['Close'], window=slow_window)\n",
    "    fast_ma = SMAIndicator(data['Close'], window=fast_window)\n",
    "    data['Slow_MA'] = slow_ma.sma_indicator()\n",
    "    data['Fast_MA'] = fast_ma.sma_indicator()\n",
    "    data['Signal'] = 0\n",
    "    data['Signal'][fast_ma.sma_indicator() > slow_ma.sma_indicator()] = 1  # Buy signal\n",
    "    data['Signal'][fast_ma.sma_indicator() < slow_ma.sma_indicator()] = -1  # Sell signal\n",
    "    data['Position'] = data['Signal'].replace(to_replace=0, method='ffill')\n",
    "    return data\n"
   ]
  },
  {
   "cell_type": "code",
   "execution_count": null,
   "metadata": {},
   "outputs": [],
   "source": [
    "def backtest_strategy(data):\n",
    "    data['Market_Returns'] = data['Close'].pct_change()\n",
    "    data['Strategy_Returns'] = data['Market_Returns'] * data['Position'].shift(1)\n",
    "    cumulative_returns = (1 + data['Strategy_Returns']).cumprod() - 1\n",
    "    return cumulative_returns\n"
   ]
  },
  {
   "cell_type": "code",
   "execution_count": null,
   "metadata": {},
   "outputs": [],
   "source": [
    "def place_order(symbol, qty, side, order_type='market', time_in_force='gtc'):\n",
    "    api.submit_order(\n",
    "        symbol=symbol,\n",
    "        qty=qty,\n",
    "        side=side,\n",
    "        type=order_type,\n",
    "        time_in_force=time_in_force\n",
    "    )\n"
   ]
  },
  {
   "cell_type": "code",
   "execution_count": null,
   "metadata": {},
   "outputs": [],
   "source": [
    "def place_bracket_order(symbol, qty, side, limit_price, take_profit, stop_loss):\n",
    "    try:\n",
    "        api.submit_order(\n",
    "            symbol=symbol,\n",
    "            qty=qty,\n",
    "            side=side,\n",
    "            type='limit',\n",
    "            time_in_force='gtc',\n",
    "            limit_price=limit_price,\n",
    "            order_class='bracket',\n",
    "            take_profit={'limit_price': take_profit},\n",
    "            stop_loss={'stop_price': stop_loss}\n",
    "        )\n",
    "        print(f\"Bracket order placed for {symbol}: {side} {qty} shares at ${limit_price}\")\n",
    "    except Exception as e:\n",
    "        print(f\"An error occurred while placing order for {symbol}: {e}\")\n"
   ]
  },
  {
   "cell_type": "code",
   "execution_count": null,
   "metadata": {},
   "outputs": [],
   "source": [
    "def get_current_position(symbol):\n",
    "    try:\n",
    "        position = api.get_position(symbol)\n",
    "        qty = float(position.qty)\n",
    "        return qty\n",
    "    except tradeapi.rest.APIError as e:\n",
    "        # If no position exists, an exception is thrown\n",
    "        if 'position does not exist' in str(e):\n",
    "            return 0\n",
    "        else:\n",
    "            print(f\"An error occurred while fetching position for {symbol}: {e}\")\n",
    "            return 0"
   ]
  },
  {
   "cell_type": "code",
   "execution_count": null,
   "metadata": {},
   "outputs": [],
   "source": [
    "import pandas as pd\n",
    "import yfinance as yf\n",
    "import matplotlib.pyplot as plt\n",
    "import alpaca_trade_api as tradeapi\n",
    "from ta.momentum import RSIIndicator\n",
    "from ta.trend import SMAIndicator, EMAIndicator\n",
    "import datetime as dt\n",
    "import time\n",
    "import threading\n",
    "import os\n",
    "\n",
    "# Load environment variables from the .env file\n",
    "load_dotenv()\n",
    "\n",
    "API_KEY = os.getenv('API_KEY')\n",
    "API_SECRET = os.getenv('API_SECRET')\n",
    "APCA_API_BASE_URL = 'https://paper-api.alpaca.markets'  # Use paper trading URL\n",
    "\n",
    "# Initialize Alpaca API\n",
    "api = tradeapi.REST(API_KEY, API_SECRET, APCA_API_BASE_URL, api_version='v2')\n",
    "\n",
    "# Function to get historical data\n",
    "def get_historical_data(symbol, period='5d', interval='1m'):\n",
    "    data = yf.download(symbol, period=period, interval=interval)\n",
    "    data.dropna(inplace=True)\n",
    "    return data\n",
    "\n",
    "# RSI Strategy\n",
    "def apply_rsi_strategy(data, window=14):\n",
    "    rsi = RSIIndicator(data['Close'], window=window)\n",
    "    data['RSI'] = rsi.rsi()\n",
    "    data['Signal'] = 0\n",
    "    data.loc[rsi.rsi() < 30, 'Signal'] = 1  # Buy signal\n",
    "    data.loc[rsi.rsi() > 70, 'Signal'] = -1  # Sell signal\n",
    "    data['Position'] = data['Signal'].replace(to_replace=0, method='ffill')\n",
    "    print(data['RSI'])\n",
    "    return data\n",
    "\n",
    "# Function to place bracket orders\n",
    "def place_bracket_order(symbol, qty, side, limit_price, take_profit, stop_loss):\n",
    "    try:\n",
    "        api.submit_order(\n",
    "            symbol=symbol,\n",
    "            qty=qty,\n",
    "            side=side,\n",
    "            type='limit',\n",
    "            time_in_force='gtc',\n",
    "            limit_price=limit_price,\n",
    "            order_class='bracket',\n",
    "            take_profit={'limit_price': take_profit},\n",
    "            stop_loss={'stop_price': stop_loss}\n",
    "        )\n",
    "        print(f\"Bracket order placed for {symbol}: {side} {qty} shares at ${limit_price}\")\n",
    "    except Exception as e:\n",
    "        print(f\"An error occurred while placing order for {symbol}: {e}\")\n",
    "\n",
    "# Function to get current position of a stock\n",
    "def get_current_position(symbol):\n",
    "    try:\n",
    "        position = api.get_position(symbol)\n",
    "        qty = float(position.qty)\n",
    "        return qty\n",
    "    except tradeapi.rest.APIError as e:\n",
    "        # If no position exists, an exception is thrown\n",
    "        if 'position does not exist' in str(e):\n",
    "            return 0\n",
    "        else:\n",
    "            print(f\"An error occurred while fetching position for {symbol}: {e}\")\n",
    "            return 0\n",
    "\n",
    "# Main trading logic\n",
    "def run_trading_bot():\n",
    "    # List of stocks to trade\n",
    "    stock_list = ['AAPL', 'MSFT', 'GOOGL', 'NVDA',\"\"]\n",
    "    \n",
    "    # Time interval between iterations in seconds\n",
    "    time_interval = 60  # 1 minute\n",
    "    \n",
    "    print(\"Starting trading bot...\")\n",
    "    try:\n",
    "        while True:\n",
    "            print(f\"\\nRunning trading cycle at {dt.datetime.now().strftime('%Y-%m-%d %H:%M:%S')}\")\n",
    "            for stock in stock_list:\n",
    "                print(f\"\\nProcessing {stock}...\")\n",
    "                \n",
    "                # Fetch the latest minute-level data\n",
    "                data = get_historical_data(stock, period='5d', interval='1m')\n",
    "                data = apply_rsi_strategy(data)\n",
    "            \n",
    "                # Check for signals in the latest data\n",
    "                latest_signal = data['Signal'].iloc[-1]\n",
    "                current_price = data['Close'].iloc[-1]\n",
    "                qty_owned = get_current_position(stock)\n",
    "                \n",
    "                if latest_signal == 1:\n",
    "                    if qty_owned == 0:\n",
    "                        print(f\"Buy signal detected for {stock}.\")\n",
    "                        # Calculate quantity based on $10,000 investment\n",
    "                        investment_amount = 10000  # $10,000 investment per stock\n",
    "                        qty = int(investment_amount / current_price)\n",
    "                        if qty > 0:\n",
    "                            # Example values for limit_price, take_profit, stop_loss\n",
    "                            limit_price = round(current_price * 1.001, 2)  # Slightly above current price\n",
    "                            take_profit = round(current_price * 1.02, 2)   # 2% profit target\n",
    "                            stop_loss = round(current_price * 0.98, 2)     # 2% stop loss\n",
    "                            place_bracket_order(stock, qty=qty, side='buy', limit_price=limit_price,\n",
    "                                                take_profit=take_profit, stop_loss=stop_loss)\n",
    "                        else:\n",
    "                            print(f\"Insufficient funds to buy {stock}.\")\n",
    "                    else:\n",
    "                        print(f\"Already holding {qty_owned} shares of {stock}. No additional buy executed.\")\n",
    "                elif latest_signal == -1:\n",
    "                    if qty_owned > 0:\n",
    "                        print(f\"Sell signal detected for {stock}.\")\n",
    "                        # Sell all owned shares\n",
    "                        limit_price = round(current_price * 0.999, 2)  # Slightly below current price\n",
    "                        take_profit = round(current_price * 0.98, 2)   # Adjust as needed\n",
    "                        stop_loss = round(current_price * 1.02, 2)     # Adjust as needed\n",
    "                        place_bracket_order(stock, qty=qty_owned, side='sell', limit_price=limit_price,\n",
    "                                            take_profit=take_profit, stop_loss=stop_loss)\n",
    "                    else:\n",
    "                        print(f\"Sell signal detected for {stock}, but no shares owned. No action taken.\")\n",
    "                else:\n",
    "                    print(f\"No action for {stock}. Latest signal: Hold.\")\n",
    "                \n",
    "                # Sleep briefly to avoid overloading the API\n",
    "                time.sleep(1)\n",
    "            \n",
    "            # Wait for the next iteration\n",
    "            print(f\"Sleeping for {time_interval} seconds...\")\n",
    "            time.sleep(time_interval)\n",
    "    except KeyboardInterrupt:\n",
    "        print(\"\\nTrading bot stopped by user.\")\n",
    "    except Exception as e:\n",
    "        print(f\"An unexpected error occurred: {e}\")\n",
    "\n",
    "# Run the trading bot\n",
    "if __name__ == \"__main__\":\n",
    "    run_trading_bot()\n"
   ]
  },
  {
   "cell_type": "code",
   "execution_count": 3,
   "metadata": {},
   "outputs": [
    {
     "name": "stdout",
     "output_type": "stream",
     "text": [
      "\n",
      "Running trading cycle at 2024-09-17 22:30:04\n",
      "\n",
      "Processing AAPL...\n"
     ]
    },
    {
     "name": "stderr",
     "output_type": "stream",
     "text": [
      "[*********************100%***********************]  1 of 1 completed\n"
     ]
    },
    {
     "name": "stdout",
     "output_type": "stream",
     "text": [
      "Datetime\n",
      "2024-09-11 09:30:00-04:00          NaN\n",
      "2024-09-11 09:31:00-04:00          NaN\n",
      "2024-09-11 09:32:00-04:00          NaN\n",
      "2024-09-11 09:33:00-04:00          NaN\n",
      "2024-09-11 09:34:00-04:00          NaN\n",
      "                               ...    \n",
      "2024-09-17 15:16:00-04:00    66.554221\n",
      "2024-09-17 15:17:00-04:00    66.611452\n",
      "2024-09-17 15:18:00-04:00    66.611452\n",
      "2024-09-17 15:19:00-04:00    70.786871\n",
      "2024-09-17 15:20:00-04:00    69.846783\n",
      "Name: RSI, Length: 1911, dtype: float64\n",
      "Sell signal detected for AAPL.\n",
      "An error occurred while placing order for AAPL: bracket orders must be entry orders\n",
      "\n",
      "Processing MSFT...\n"
     ]
    },
    {
     "name": "stderr",
     "output_type": "stream",
     "text": [
      "[*********************100%***********************]  1 of 1 completed\n"
     ]
    },
    {
     "name": "stdout",
     "output_type": "stream",
     "text": [
      "Datetime\n",
      "2024-09-11 09:30:00-04:00          NaN\n",
      "2024-09-11 09:31:00-04:00          NaN\n",
      "2024-09-11 09:32:00-04:00          NaN\n",
      "2024-09-11 09:33:00-04:00          NaN\n",
      "2024-09-11 09:34:00-04:00          NaN\n",
      "                               ...    \n",
      "2024-09-17 15:25:00-04:00    41.334495\n",
      "2024-09-17 15:26:00-04:00    34.828150\n",
      "2024-09-17 15:27:00-04:00    39.089499\n",
      "2024-09-17 15:28:00-04:00    40.222840\n",
      "2024-09-17 15:29:00-04:00    44.657661\n",
      "Name: RSI, Length: 1920, dtype: float64\n",
      "No action for MSFT. Latest signal: Hold.\n",
      "\n",
      "Processing GOOGL...\n"
     ]
    },
    {
     "name": "stderr",
     "output_type": "stream",
     "text": [
      "[*********************100%***********************]  1 of 1 completed\n"
     ]
    },
    {
     "name": "stdout",
     "output_type": "stream",
     "text": [
      "Datetime\n",
      "2024-09-11 09:30:00-04:00          NaN\n",
      "2024-09-11 09:31:00-04:00          NaN\n",
      "2024-09-11 09:32:00-04:00          NaN\n",
      "2024-09-11 09:33:00-04:00          NaN\n",
      "2024-09-11 09:34:00-04:00          NaN\n",
      "                               ...    \n",
      "2024-09-17 15:13:00-04:00    47.929982\n",
      "2024-09-17 15:14:00-04:00    56.130798\n",
      "2024-09-17 15:15:00-04:00    57.274943\n",
      "2024-09-17 15:16:00-04:00    52.823938\n",
      "2024-09-17 15:17:00-04:00    53.120620\n",
      "Name: RSI, Length: 1908, dtype: float64\n",
      "No action for GOOGL. Latest signal: Hold.\n",
      "\n",
      "Processing NVDA...\n"
     ]
    },
    {
     "name": "stderr",
     "output_type": "stream",
     "text": [
      "[*********************100%***********************]  1 of 1 completed\n"
     ]
    },
    {
     "name": "stdout",
     "output_type": "stream",
     "text": [
      "Datetime\n",
      "2024-09-11 09:30:00-04:00          NaN\n",
      "2024-09-11 09:31:00-04:00          NaN\n",
      "2024-09-11 09:32:00-04:00          NaN\n",
      "2024-09-11 09:33:00-04:00          NaN\n",
      "2024-09-11 09:34:00-04:00          NaN\n",
      "                               ...    \n",
      "2024-09-17 15:00:00-04:00    49.331779\n",
      "2024-09-17 15:01:00-04:00    56.041225\n",
      "2024-09-17 15:02:00-04:00    58.061444\n",
      "2024-09-17 15:03:00-04:00    57.045549\n",
      "2024-09-17 15:04:00-04:00    57.045549\n",
      "Name: RSI, Length: 1895, dtype: float64\n",
      "No action for NVDA. Latest signal: Hold.\n",
      "\n",
      "Processing AMZN...\n"
     ]
    },
    {
     "name": "stderr",
     "output_type": "stream",
     "text": [
      "[*********************100%***********************]  1 of 1 completed\n"
     ]
    },
    {
     "name": "stdout",
     "output_type": "stream",
     "text": [
      "Datetime\n",
      "2024-09-11 09:30:00-04:00          NaN\n",
      "2024-09-11 09:31:00-04:00          NaN\n",
      "2024-09-11 09:32:00-04:00          NaN\n",
      "2024-09-11 09:33:00-04:00          NaN\n",
      "2024-09-11 09:34:00-04:00          NaN\n",
      "                               ...    \n",
      "2024-09-17 15:16:00-04:00    58.444089\n",
      "2024-09-17 15:17:00-04:00    57.199676\n",
      "2024-09-17 15:18:00-04:00    56.873397\n",
      "2024-09-17 15:19:00-04:00    58.649940\n",
      "2024-09-17 15:20:00-04:00    56.501777\n",
      "Name: RSI, Length: 1911, dtype: float64\n",
      "No action for AMZN. Latest signal: Hold.\n",
      "\n",
      "Processing META...\n"
     ]
    },
    {
     "name": "stderr",
     "output_type": "stream",
     "text": [
      "[*********************100%***********************]  1 of 1 completed\n"
     ]
    },
    {
     "name": "stdout",
     "output_type": "stream",
     "text": [
      "Datetime\n",
      "2024-09-11 09:30:00-04:00          NaN\n",
      "2024-09-11 09:31:00-04:00          NaN\n",
      "2024-09-11 09:32:00-04:00          NaN\n",
      "2024-09-11 09:33:00-04:00          NaN\n",
      "2024-09-11 09:34:00-04:00          NaN\n",
      "                               ...    \n",
      "2024-09-17 15:26:00-04:00    44.638165\n",
      "2024-09-17 15:27:00-04:00    42.845996\n",
      "2024-09-17 15:28:00-04:00    53.605976\n",
      "2024-09-17 15:29:00-04:00    57.276512\n",
      "2024-09-17 15:30:00-04:00    56.697434\n",
      "Name: RSI, Length: 1921, dtype: float64\n",
      "No action for META. Latest signal: Hold.\n",
      "Sleeping for 60 seconds...\n",
      "\n",
      "Running trading cycle at 2024-09-17 22:31:15\n",
      "\n",
      "Processing AAPL...\n"
     ]
    },
    {
     "name": "stderr",
     "output_type": "stream",
     "text": [
      "[*********************100%***********************]  1 of 1 completed\n"
     ]
    },
    {
     "name": "stdout",
     "output_type": "stream",
     "text": [
      "Datetime\n",
      "2024-09-11 09:30:00-04:00          NaN\n",
      "2024-09-11 09:31:00-04:00          NaN\n",
      "2024-09-11 09:32:00-04:00          NaN\n",
      "2024-09-11 09:33:00-04:00          NaN\n",
      "2024-09-11 09:34:00-04:00          NaN\n",
      "                               ...    \n",
      "2024-09-17 15:17:00-04:00    66.611452\n",
      "2024-09-17 15:18:00-04:00    66.611452\n",
      "2024-09-17 15:19:00-04:00    70.786871\n",
      "2024-09-17 15:20:00-04:00    70.312967\n",
      "2024-09-17 15:21:00-04:00    70.525472\n",
      "Name: RSI, Length: 1912, dtype: float64\n",
      "Sell signal detected for AAPL, but no shares owned. No action taken.\n",
      "\n",
      "Processing MSFT...\n"
     ]
    },
    {
     "name": "stderr",
     "output_type": "stream",
     "text": [
      "[*********************100%***********************]  1 of 1 completed\n"
     ]
    },
    {
     "name": "stdout",
     "output_type": "stream",
     "text": [
      "Datetime\n",
      "2024-09-11 09:30:00-04:00          NaN\n",
      "2024-09-11 09:31:00-04:00          NaN\n",
      "2024-09-11 09:32:00-04:00          NaN\n",
      "2024-09-11 09:33:00-04:00          NaN\n",
      "2024-09-11 09:34:00-04:00          NaN\n",
      "                               ...    \n",
      "2024-09-17 15:26:00-04:00    34.828150\n",
      "2024-09-17 15:27:00-04:00    39.089499\n",
      "2024-09-17 15:28:00-04:00    40.222840\n",
      "2024-09-17 15:29:00-04:00    48.480674\n",
      "2024-09-17 15:30:00-04:00    46.034596\n",
      "Name: RSI, Length: 1921, dtype: float64\n",
      "No action for MSFT. Latest signal: Hold.\n",
      "\n",
      "Processing GOOGL...\n"
     ]
    },
    {
     "name": "stderr",
     "output_type": "stream",
     "text": [
      "[*********************100%***********************]  1 of 1 completed\n"
     ]
    },
    {
     "name": "stdout",
     "output_type": "stream",
     "text": [
      "Datetime\n",
      "2024-09-11 09:30:00-04:00          NaN\n",
      "2024-09-11 09:31:00-04:00          NaN\n",
      "2024-09-11 09:32:00-04:00          NaN\n",
      "2024-09-11 09:33:00-04:00          NaN\n",
      "2024-09-11 09:34:00-04:00          NaN\n",
      "                               ...    \n",
      "2024-09-17 15:14:00-04:00    56.130798\n",
      "2024-09-17 15:15:00-04:00    57.274943\n",
      "2024-09-17 15:16:00-04:00    52.823938\n",
      "2024-09-17 15:17:00-04:00    53.684868\n",
      "2024-09-17 15:18:00-04:00    45.612865\n",
      "Name: RSI, Length: 1909, dtype: float64\n",
      "No action for GOOGL. Latest signal: Hold.\n",
      "\n",
      "Processing NVDA...\n"
     ]
    },
    {
     "name": "stderr",
     "output_type": "stream",
     "text": [
      "[*********************100%***********************]  1 of 1 completed\n"
     ]
    },
    {
     "name": "stdout",
     "output_type": "stream",
     "text": [
      "Datetime\n",
      "2024-09-11 09:30:00-04:00          NaN\n",
      "2024-09-11 09:31:00-04:00          NaN\n",
      "2024-09-11 09:32:00-04:00          NaN\n",
      "2024-09-11 09:33:00-04:00          NaN\n",
      "2024-09-11 09:34:00-04:00          NaN\n",
      "                               ...    \n",
      "2024-09-17 15:00:00-04:00    49.331779\n",
      "2024-09-17 15:01:00-04:00    56.041225\n",
      "2024-09-17 15:02:00-04:00    58.061444\n",
      "2024-09-17 15:03:00-04:00    57.045549\n",
      "2024-09-17 15:04:00-04:00    57.839962\n",
      "Name: RSI, Length: 1895, dtype: float64\n",
      "No action for NVDA. Latest signal: Hold.\n",
      "\n",
      "Processing AMZN...\n"
     ]
    },
    {
     "name": "stderr",
     "output_type": "stream",
     "text": [
      "[*********************100%***********************]  1 of 1 completed\n"
     ]
    },
    {
     "name": "stdout",
     "output_type": "stream",
     "text": [
      "Datetime\n",
      "2024-09-11 09:30:00-04:00          NaN\n",
      "2024-09-11 09:31:00-04:00          NaN\n",
      "2024-09-11 09:32:00-04:00          NaN\n",
      "2024-09-11 09:33:00-04:00          NaN\n",
      "2024-09-11 09:34:00-04:00          NaN\n",
      "                               ...    \n",
      "2024-09-17 15:17:00-04:00    57.199676\n",
      "2024-09-17 15:18:00-04:00    56.873397\n",
      "2024-09-17 15:19:00-04:00    58.649940\n",
      "2024-09-17 15:20:00-04:00    56.158609\n",
      "2024-09-17 15:21:00-04:00    49.610430\n",
      "Name: RSI, Length: 1912, dtype: float64\n",
      "No action for AMZN. Latest signal: Hold.\n",
      "\n",
      "Processing META...\n"
     ]
    },
    {
     "name": "stderr",
     "output_type": "stream",
     "text": [
      "[*********************100%***********************]  1 of 1 completed\n"
     ]
    },
    {
     "name": "stdout",
     "output_type": "stream",
     "text": [
      "Datetime\n",
      "2024-09-11 09:30:00-04:00          NaN\n",
      "2024-09-11 09:31:00-04:00          NaN\n",
      "2024-09-11 09:32:00-04:00          NaN\n",
      "2024-09-11 09:33:00-04:00          NaN\n",
      "2024-09-11 09:34:00-04:00          NaN\n",
      "                               ...    \n",
      "2024-09-17 15:27:00-04:00    42.845996\n",
      "2024-09-17 15:28:00-04:00    53.605976\n",
      "2024-09-17 15:29:00-04:00    57.276512\n",
      "2024-09-17 15:30:00-04:00    59.089146\n",
      "2024-09-17 15:31:00-04:00    59.516406\n",
      "Name: RSI, Length: 1922, dtype: float64\n",
      "No action for META. Latest signal: Hold.\n",
      "Sleeping for 60 seconds...\n",
      "\n",
      "Running trading cycle at 2024-09-17 22:32:25\n",
      "\n",
      "Processing AAPL...\n"
     ]
    },
    {
     "name": "stderr",
     "output_type": "stream",
     "text": [
      "[*********************100%***********************]  1 of 1 completed\n"
     ]
    },
    {
     "name": "stdout",
     "output_type": "stream",
     "text": [
      "Datetime\n",
      "2024-09-11 09:30:00-04:00          NaN\n",
      "2024-09-11 09:31:00-04:00          NaN\n",
      "2024-09-11 09:32:00-04:00          NaN\n",
      "2024-09-11 09:33:00-04:00          NaN\n",
      "2024-09-11 09:34:00-04:00          NaN\n",
      "                               ...    \n",
      "2024-09-17 15:18:00-04:00    66.611452\n",
      "2024-09-17 15:19:00-04:00    70.786871\n",
      "2024-09-17 15:20:00-04:00    70.312967\n",
      "2024-09-17 15:21:00-04:00    70.651648\n",
      "2024-09-17 15:22:00-04:00    70.962869\n",
      "Name: RSI, Length: 1913, dtype: float64\n",
      "Sell signal detected for AAPL, but no shares owned. No action taken.\n",
      "\n",
      "Processing MSFT...\n"
     ]
    },
    {
     "name": "stderr",
     "output_type": "stream",
     "text": [
      "[*********************100%***********************]  1 of 1 completed\n"
     ]
    },
    {
     "name": "stdout",
     "output_type": "stream",
     "text": [
      "Datetime\n",
      "2024-09-11 09:30:00-04:00          NaN\n",
      "2024-09-11 09:31:00-04:00          NaN\n",
      "2024-09-11 09:32:00-04:00          NaN\n",
      "2024-09-11 09:33:00-04:00          NaN\n",
      "2024-09-11 09:34:00-04:00          NaN\n",
      "                               ...    \n",
      "2024-09-17 15:28:00-04:00    40.222840\n",
      "2024-09-17 15:29:00-04:00    48.480674\n",
      "2024-09-17 15:30:00-04:00    46.034596\n",
      "2024-09-17 15:31:00-04:00    48.815735\n",
      "2024-09-17 15:32:00-04:00    44.606999\n",
      "Name: RSI, Length: 1923, dtype: float64\n",
      "No action for MSFT. Latest signal: Hold.\n",
      "\n",
      "Processing GOOGL...\n"
     ]
    },
    {
     "name": "stderr",
     "output_type": "stream",
     "text": [
      "[*********************100%***********************]  1 of 1 completed\n"
     ]
    },
    {
     "name": "stdout",
     "output_type": "stream",
     "text": [
      "Datetime\n",
      "2024-09-11 09:30:00-04:00          NaN\n",
      "2024-09-11 09:31:00-04:00          NaN\n",
      "2024-09-11 09:32:00-04:00          NaN\n",
      "2024-09-11 09:33:00-04:00          NaN\n",
      "2024-09-11 09:34:00-04:00          NaN\n",
      "                               ...    \n",
      "2024-09-17 15:15:00-04:00    57.274943\n",
      "2024-09-17 15:16:00-04:00    52.823938\n",
      "2024-09-17 15:17:00-04:00    53.684868\n",
      "2024-09-17 15:18:00-04:00    49.806802\n",
      "2024-09-17 15:19:00-04:00    50.257150\n",
      "Name: RSI, Length: 1910, dtype: float64\n",
      "No action for GOOGL. Latest signal: Hold.\n",
      "\n",
      "Processing NVDA...\n"
     ]
    },
    {
     "name": "stderr",
     "output_type": "stream",
     "text": [
      "[*********************100%***********************]  1 of 1 completed\n"
     ]
    },
    {
     "name": "stdout",
     "output_type": "stream",
     "text": [
      "Datetime\n",
      "2024-09-11 09:30:00-04:00          NaN\n",
      "2024-09-11 09:31:00-04:00          NaN\n",
      "2024-09-11 09:32:00-04:00          NaN\n",
      "2024-09-11 09:33:00-04:00          NaN\n",
      "2024-09-11 09:34:00-04:00          NaN\n",
      "                               ...    \n",
      "2024-09-17 15:01:00-04:00    56.041225\n",
      "2024-09-17 15:02:00-04:00    58.061444\n",
      "2024-09-17 15:03:00-04:00    57.045549\n",
      "2024-09-17 15:04:00-04:00    54.714018\n",
      "2024-09-17 15:05:00-04:00    55.582813\n",
      "Name: RSI, Length: 1896, dtype: float64\n",
      "No action for NVDA. Latest signal: Hold.\n",
      "\n",
      "Processing AMZN...\n"
     ]
    },
    {
     "name": "stderr",
     "output_type": "stream",
     "text": [
      "[*********************100%***********************]  1 of 1 completed\n"
     ]
    },
    {
     "name": "stdout",
     "output_type": "stream",
     "text": [
      "Datetime\n",
      "2024-09-11 09:30:00-04:00          NaN\n",
      "2024-09-11 09:31:00-04:00          NaN\n",
      "2024-09-11 09:32:00-04:00          NaN\n",
      "2024-09-11 09:33:00-04:00          NaN\n",
      "2024-09-11 09:34:00-04:00          NaN\n",
      "                               ...    \n",
      "2024-09-17 15:18:00-04:00    56.873397\n",
      "2024-09-17 15:19:00-04:00    58.649940\n",
      "2024-09-17 15:20:00-04:00    56.158609\n",
      "2024-09-17 15:21:00-04:00    49.962490\n",
      "2024-09-17 15:22:00-04:00    46.465576\n",
      "Name: RSI, Length: 1913, dtype: float64\n",
      "No action for AMZN. Latest signal: Hold.\n",
      "\n",
      "Processing META...\n"
     ]
    },
    {
     "name": "stderr",
     "output_type": "stream",
     "text": [
      "[*********************100%***********************]  1 of 1 completed\n"
     ]
    },
    {
     "name": "stdout",
     "output_type": "stream",
     "text": [
      "Datetime\n",
      "2024-09-11 09:30:00-04:00          NaN\n",
      "2024-09-11 09:31:00-04:00          NaN\n",
      "2024-09-11 09:32:00-04:00          NaN\n",
      "2024-09-11 09:33:00-04:00          NaN\n",
      "2024-09-11 09:34:00-04:00          NaN\n",
      "                               ...    \n",
      "2024-09-17 15:28:00-04:00    53.605976\n",
      "2024-09-17 15:29:00-04:00    57.276512\n",
      "2024-09-17 15:30:00-04:00    59.089146\n",
      "2024-09-17 15:31:00-04:00    61.007897\n",
      "2024-09-17 15:32:00-04:00    59.066249\n",
      "Name: RSI, Length: 1923, dtype: float64\n",
      "No action for META. Latest signal: Hold.\n",
      "Sleeping for 60 seconds...\n",
      "\n",
      "Running trading cycle at 2024-09-17 22:33:36\n",
      "\n",
      "Processing AAPL...\n"
     ]
    },
    {
     "name": "stderr",
     "output_type": "stream",
     "text": [
      "[*********************100%***********************]  1 of 1 completed\n"
     ]
    },
    {
     "name": "stdout",
     "output_type": "stream",
     "text": [
      "Datetime\n",
      "2024-09-11 09:30:00-04:00          NaN\n",
      "2024-09-11 09:31:00-04:00          NaN\n",
      "2024-09-11 09:32:00-04:00          NaN\n",
      "2024-09-11 09:33:00-04:00          NaN\n",
      "2024-09-11 09:34:00-04:00          NaN\n",
      "                               ...    \n",
      "2024-09-17 15:19:00-04:00    70.786871\n",
      "2024-09-17 15:20:00-04:00    70.312967\n",
      "2024-09-17 15:21:00-04:00    70.651648\n",
      "2024-09-17 15:22:00-04:00    62.673003\n",
      "2024-09-17 15:23:00-04:00    53.974297\n",
      "Name: RSI, Length: 1914, dtype: float64\n",
      "No action for AAPL. Latest signal: Hold.\n",
      "\n",
      "Processing MSFT...\n"
     ]
    },
    {
     "name": "stderr",
     "output_type": "stream",
     "text": [
      "[*********************100%***********************]  1 of 1 completed\n"
     ]
    },
    {
     "name": "stdout",
     "output_type": "stream",
     "text": [
      "Datetime\n",
      "2024-09-11 09:30:00-04:00          NaN\n",
      "2024-09-11 09:31:00-04:00          NaN\n",
      "2024-09-11 09:32:00-04:00          NaN\n",
      "2024-09-11 09:33:00-04:00          NaN\n",
      "2024-09-11 09:34:00-04:00          NaN\n",
      "                               ...    \n",
      "2024-09-17 15:29:00-04:00    48.480674\n",
      "2024-09-17 15:30:00-04:00    46.034596\n",
      "2024-09-17 15:31:00-04:00    48.815735\n",
      "2024-09-17 15:32:00-04:00    44.382395\n",
      "2024-09-17 15:33:00-04:00    40.427737\n",
      "Name: RSI, Length: 1924, dtype: float64\n",
      "No action for MSFT. Latest signal: Hold.\n",
      "\n",
      "Processing GOOGL...\n"
     ]
    },
    {
     "name": "stderr",
     "output_type": "stream",
     "text": [
      "[*********************100%***********************]  1 of 1 completed\n"
     ]
    },
    {
     "name": "stdout",
     "output_type": "stream",
     "text": [
      "Datetime\n",
      "2024-09-11 09:30:00-04:00          NaN\n",
      "2024-09-11 09:31:00-04:00          NaN\n",
      "2024-09-11 09:32:00-04:00          NaN\n",
      "2024-09-11 09:33:00-04:00          NaN\n",
      "2024-09-11 09:34:00-04:00          NaN\n",
      "                               ...    \n",
      "2024-09-17 15:15:00-04:00    57.274943\n",
      "2024-09-17 15:16:00-04:00    52.823938\n",
      "2024-09-17 15:17:00-04:00    53.684868\n",
      "2024-09-17 15:18:00-04:00    49.806802\n",
      "2024-09-17 15:19:00-04:00    51.206657\n",
      "Name: RSI, Length: 1910, dtype: float64\n",
      "No action for GOOGL. Latest signal: Hold.\n",
      "\n",
      "Processing NVDA...\n"
     ]
    },
    {
     "name": "stderr",
     "output_type": "stream",
     "text": [
      "[*********************100%***********************]  1 of 1 completed\n"
     ]
    },
    {
     "name": "stdout",
     "output_type": "stream",
     "text": [
      "Datetime\n",
      "2024-09-11 09:30:00-04:00          NaN\n",
      "2024-09-11 09:31:00-04:00          NaN\n",
      "2024-09-11 09:32:00-04:00          NaN\n",
      "2024-09-11 09:33:00-04:00          NaN\n",
      "2024-09-11 09:34:00-04:00          NaN\n",
      "                               ...    \n",
      "2024-09-17 15:01:00-04:00    56.041225\n",
      "2024-09-17 15:02:00-04:00    58.061444\n",
      "2024-09-17 15:03:00-04:00    57.045549\n",
      "2024-09-17 15:04:00-04:00    54.714018\n",
      "2024-09-17 15:05:00-04:00    58.942659\n",
      "Name: RSI, Length: 1896, dtype: float64\n",
      "No action for NVDA. Latest signal: Hold.\n",
      "\n",
      "Processing AMZN...\n"
     ]
    },
    {
     "name": "stderr",
     "output_type": "stream",
     "text": [
      "[*********************100%***********************]  1 of 1 completed\n"
     ]
    },
    {
     "name": "stdout",
     "output_type": "stream",
     "text": [
      "Datetime\n",
      "2024-09-11 09:30:00-04:00          NaN\n",
      "2024-09-11 09:31:00-04:00          NaN\n",
      "2024-09-11 09:32:00-04:00          NaN\n",
      "2024-09-11 09:33:00-04:00          NaN\n",
      "2024-09-11 09:34:00-04:00          NaN\n",
      "                               ...    \n",
      "2024-09-17 15:19:00-04:00    58.649940\n",
      "2024-09-17 15:20:00-04:00    56.158609\n",
      "2024-09-17 15:21:00-04:00    49.962490\n",
      "2024-09-17 15:22:00-04:00    45.931009\n",
      "2024-09-17 15:23:00-04:00    41.321115\n",
      "Name: RSI, Length: 1914, dtype: float64\n",
      "No action for AMZN. Latest signal: Hold.\n",
      "\n",
      "Processing META...\n"
     ]
    },
    {
     "name": "stderr",
     "output_type": "stream",
     "text": [
      "[*********************100%***********************]  1 of 1 completed\n"
     ]
    },
    {
     "name": "stdout",
     "output_type": "stream",
     "text": [
      "Datetime\n",
      "2024-09-11 09:30:00-04:00          NaN\n",
      "2024-09-11 09:31:00-04:00          NaN\n",
      "2024-09-11 09:32:00-04:00          NaN\n",
      "2024-09-11 09:33:00-04:00          NaN\n",
      "2024-09-11 09:34:00-04:00          NaN\n",
      "                               ...    \n",
      "2024-09-17 15:29:00-04:00    57.276512\n",
      "2024-09-17 15:30:00-04:00    59.089146\n",
      "2024-09-17 15:31:00-04:00    61.007897\n",
      "2024-09-17 15:32:00-04:00    51.371154\n",
      "2024-09-17 15:33:00-04:00    49.902534\n",
      "Name: RSI, Length: 1924, dtype: float64\n",
      "No action for META. Latest signal: Hold.\n",
      "Sleeping for 60 seconds...\n",
      "\n",
      "Running trading cycle at 2024-09-17 22:34:47\n",
      "\n",
      "Processing AAPL...\n"
     ]
    },
    {
     "name": "stderr",
     "output_type": "stream",
     "text": [
      "[*********************100%***********************]  1 of 1 completed\n"
     ]
    },
    {
     "name": "stdout",
     "output_type": "stream",
     "text": [
      "Datetime\n",
      "2024-09-11 09:30:00-04:00          NaN\n",
      "2024-09-11 09:31:00-04:00          NaN\n",
      "2024-09-11 09:32:00-04:00          NaN\n",
      "2024-09-11 09:33:00-04:00          NaN\n",
      "2024-09-11 09:34:00-04:00          NaN\n",
      "                               ...    \n",
      "2024-09-17 15:19:00-04:00    70.786871\n",
      "2024-09-17 15:20:00-04:00    70.312967\n",
      "2024-09-17 15:21:00-04:00    70.651648\n",
      "2024-09-17 15:22:00-04:00    62.673003\n",
      "2024-09-17 15:23:00-04:00    58.394966\n",
      "Name: RSI, Length: 1914, dtype: float64\n",
      "No action for AAPL. Latest signal: Hold.\n",
      "\n",
      "Processing MSFT...\n"
     ]
    },
    {
     "name": "stderr",
     "output_type": "stream",
     "text": [
      "[*********************100%***********************]  1 of 1 completed\n"
     ]
    },
    {
     "name": "stdout",
     "output_type": "stream",
     "text": [
      "Datetime\n",
      "2024-09-11 09:30:00-04:00          NaN\n",
      "2024-09-11 09:31:00-04:00          NaN\n",
      "2024-09-11 09:32:00-04:00          NaN\n",
      "2024-09-11 09:33:00-04:00          NaN\n",
      "2024-09-11 09:34:00-04:00          NaN\n",
      "                               ...    \n",
      "2024-09-17 15:30:00-04:00    46.034596\n",
      "2024-09-17 15:31:00-04:00    48.815735\n",
      "2024-09-17 15:32:00-04:00    44.382395\n",
      "2024-09-17 15:33:00-04:00    41.878873\n",
      "2024-09-17 15:34:00-04:00    43.288434\n",
      "Name: RSI, Length: 1925, dtype: float64\n",
      "No action for MSFT. Latest signal: Hold.\n",
      "\n",
      "Processing GOOGL...\n"
     ]
    },
    {
     "name": "stderr",
     "output_type": "stream",
     "text": [
      "[*********************100%***********************]  1 of 1 completed\n"
     ]
    },
    {
     "name": "stdout",
     "output_type": "stream",
     "text": [
      "Datetime\n",
      "2024-09-11 09:30:00-04:00          NaN\n",
      "2024-09-11 09:31:00-04:00          NaN\n",
      "2024-09-11 09:32:00-04:00          NaN\n",
      "2024-09-11 09:33:00-04:00          NaN\n",
      "2024-09-11 09:34:00-04:00          NaN\n",
      "                               ...    \n",
      "2024-09-17 15:16:00-04:00    52.823938\n",
      "2024-09-17 15:17:00-04:00    53.684868\n",
      "2024-09-17 15:18:00-04:00    49.806802\n",
      "2024-09-17 15:19:00-04:00    51.206657\n",
      "2024-09-17 15:20:00-04:00    54.042308\n",
      "Name: RSI, Length: 1911, dtype: float64\n",
      "No action for GOOGL. Latest signal: Hold.\n",
      "\n",
      "Processing NVDA...\n"
     ]
    },
    {
     "name": "stderr",
     "output_type": "stream",
     "text": [
      "[*********************100%***********************]  1 of 1 completed\n"
     ]
    },
    {
     "name": "stdout",
     "output_type": "stream",
     "text": [
      "Datetime\n",
      "2024-09-11 09:30:00-04:00          NaN\n",
      "2024-09-11 09:31:00-04:00          NaN\n",
      "2024-09-11 09:32:00-04:00          NaN\n",
      "2024-09-11 09:33:00-04:00          NaN\n",
      "2024-09-11 09:34:00-04:00          NaN\n",
      "                               ...    \n",
      "2024-09-17 15:02:00-04:00    58.061444\n",
      "2024-09-17 15:03:00-04:00    57.045549\n",
      "2024-09-17 15:04:00-04:00    54.714018\n",
      "2024-09-17 15:05:00-04:00    58.935435\n",
      "2024-09-17 15:06:00-04:00    55.988672\n",
      "Name: RSI, Length: 1897, dtype: float64\n",
      "No action for NVDA. Latest signal: Hold.\n",
      "\n",
      "Processing AMZN...\n"
     ]
    },
    {
     "name": "stderr",
     "output_type": "stream",
     "text": [
      "[*********************100%***********************]  1 of 1 completed\n"
     ]
    },
    {
     "name": "stdout",
     "output_type": "stream",
     "text": [
      "Datetime\n",
      "2024-09-11 09:30:00-04:00          NaN\n",
      "2024-09-11 09:31:00-04:00          NaN\n",
      "2024-09-11 09:32:00-04:00          NaN\n",
      "2024-09-11 09:33:00-04:00          NaN\n",
      "2024-09-11 09:34:00-04:00          NaN\n",
      "                               ...    \n",
      "2024-09-17 15:20:00-04:00    56.158609\n",
      "2024-09-17 15:21:00-04:00    49.962490\n",
      "2024-09-17 15:22:00-04:00    45.931009\n",
      "2024-09-17 15:23:00-04:00    39.556186\n",
      "2024-09-17 15:24:00-04:00    37.817324\n",
      "Name: RSI, Length: 1915, dtype: float64\n",
      "No action for AMZN. Latest signal: Hold.\n",
      "\n",
      "Processing META...\n"
     ]
    },
    {
     "name": "stderr",
     "output_type": "stream",
     "text": [
      "[*********************100%***********************]  1 of 1 completed\n"
     ]
    },
    {
     "name": "stdout",
     "output_type": "stream",
     "text": [
      "Datetime\n",
      "2024-09-11 09:30:00-04:00          NaN\n",
      "2024-09-11 09:31:00-04:00          NaN\n",
      "2024-09-11 09:32:00-04:00          NaN\n",
      "2024-09-11 09:33:00-04:00          NaN\n",
      "2024-09-11 09:34:00-04:00          NaN\n",
      "                               ...    \n",
      "2024-09-17 15:30:00-04:00    59.089146\n",
      "2024-09-17 15:31:00-04:00    61.007897\n",
      "2024-09-17 15:32:00-04:00    51.371154\n",
      "2024-09-17 15:33:00-04:00    50.544643\n",
      "2024-09-17 15:34:00-04:00    52.120754\n",
      "Name: RSI, Length: 1925, dtype: float64\n",
      "No action for META. Latest signal: Hold.\n",
      "Sleeping for 60 seconds...\n",
      "\n",
      "Trading bot stopped by user.\n"
     ]
    }
   ],
   "source": [
    "import pandas as pd\n",
    "import yfinance as yf\n",
    "import matplotlib.pyplot as plt\n",
    "import alpaca_trade_api as tradeapi\n",
    "from ta.momentum import RSIIndicator\n",
    "from ta.trend import SMAIndicator, EMAIndicator\n",
    "import datetime as dt\n",
    "import time\n",
    "import threading\n",
    "\n",
    "import os\n",
    "\n",
    "load_dotenv()\n",
    "\n",
    "API_KEY = os.getenv('API_KEY')\n",
    "API_SECRET = os.getenv('API_SECRET')\n",
    "APCA_API_BASE_URL = 'https://paper-api.alpaca.markets' \n",
    "\n",
    "# Initialize Alpaca API\n",
    "api = tradeapi.REST(API_KEY, API_SECRET, APCA_API_BASE_URL, api_version='v2')\n",
    "\n",
    "# Function to get historical data\n",
    "def get_historical_data(symbol, period='5d', interval='1m'):\n",
    "    data = yf.download(symbol, period=period, interval=interval)\n",
    "    data.dropna(inplace=True)\n",
    "    return data\n",
    "\n",
    "# RSI Strategy\n",
    "def apply_rsi_strategy(data, window=14):\n",
    "    rsi = RSIIndicator(data['Close'], window=window)\n",
    "    data['RSI'] = rsi.rsi()\n",
    "    data['Signal'] = 0\n",
    "    data.loc[rsi.rsi() < 35, 'Signal'] = 1  # Buy signal\n",
    "    data.loc[rsi.rsi() > 65, 'Signal'] = -1  # Sell signal\n",
    "    data['Position'] = data['Signal'].replace(to_replace=0, method='ffill')\n",
    "    print(data['RSI'])\n",
    "    return data\n",
    "\n",
    "# Function to place bracket orders\n",
    "def place_bracket_order(symbol, qty, side, limit_price, take_profit, stop_loss):\n",
    "    try:\n",
    "        api.submit_order(\n",
    "            symbol=symbol,\n",
    "            qty=qty,\n",
    "            side=side,\n",
    "            type='limit',\n",
    "            time_in_force='gtc',\n",
    "            limit_price=limit_price,\n",
    "            order_class='bracket',\n",
    "            take_profit={'limit_price': take_profit},\n",
    "            stop_loss={'stop_price': stop_loss}\n",
    "        )\n",
    "        print(f\"Bracket order placed for {symbol}: {side} {qty} shares at ${limit_price}\")\n",
    "    except Exception as e:\n",
    "        print(f\"An error occurred while placing order for {symbol}: {e}\")\n",
    "\n",
    "# Function to get current position of a stock\n",
    "def get_current_position(symbol):\n",
    "    try:\n",
    "        position = api.get_position(symbol)\n",
    "        qty = float(position.qty)\n",
    "        return qty\n",
    "    except tradeapi.rest.APIError as e:\n",
    "        # If no position exists, an exception is thrown\n",
    "        if 'position does not exist' in str(e):\n",
    "            return 0\n",
    "        else:\n",
    "            print(f\"An error occurred while fetching position for {symbol}: {e}\")\n",
    "            return 0\n",
    "\n",
    "# Main trading logic\n",
    "def run_trading_bot():\n",
    "    stock_list = ['AAPL', 'MSFT', 'GOOGL', 'NVDA','AMZN', 'META']\n",
    "    \n",
    "    time_interval = 60  \n",
    "    \n",
    "    print(\"Starting trading bot...\")\n",
    "    try:\n",
    "        while True:\n",
    "            print(f\"\\nRunning trading cycle at {dt.datetime.now().strftime('%Y-%m-%d %H:%M:%S')}\")\n",
    "            for stock in stock_list:\n",
    "                print(f\"\\nProcessing {stock}...\")\n",
    "                \n",
    "                data = get_historical_data(stock, period='5d', interval='1m')\n",
    "                data = apply_rsi_strategy(data)\n",
    "            \n",
    "                latest_signal = data['Signal'].iloc[-1]\n",
    "                current_price = data['Close'].iloc[-1]\n",
    "                qty_owned = get_current_position(stock)\n",
    "                \n",
    "                if latest_signal == 1:\n",
    "                    if qty_owned == 0:\n",
    "                        print(f\"Buy signal detected for {stock}.\")\n",
    "                        investment_amount = 10000  \n",
    "                        qty = int(investment_amount / current_price)\n",
    "                        if qty > 0:\n",
    "                            limit_price = round(current_price * 1.001, 2)  \n",
    "                            take_profit = round(current_price * 1.02, 2)   \n",
    "                            stop_loss = round(current_price * 0.98, 2)     \n",
    "                            place_bracket_order(stock, qty=qty, side='buy', limit_price=limit_price,\n",
    "                                                take_profit=take_profit, stop_loss=stop_loss)\n",
    "                        else:\n",
    "                            print(f\"Insufficient funds to buy {stock}.\")\n",
    "                    else:\n",
    "                        print(f\"Already holding {qty_owned} shares of {stock}. No additional buy executed.\")\n",
    "                elif latest_signal == -1:\n",
    "                    if qty_owned > 0:\n",
    "                        print(f\"Sell signal detected for {stock}.\")\n",
    "                        # Sell all owned shares\n",
    "                        limit_price = round(current_price * 0.999, 2)  \n",
    "                        take_profit = round(current_price * 0.98, 2)   \n",
    "                        stop_loss = round(current_price * 1.02, 2)    \n",
    "                        place_bracket_order(stock, qty=qty_owned, side='sell', limit_price=limit_price,\n",
    "                                            take_profit=take_profit, stop_loss=stop_loss)\n",
    "                    else:\n",
    "                        print(f\"Sell signal detected for {stock}, but no shares owned. No action taken.\")\n",
    "                else:\n",
    "                    print(f\"No action for {stock}. Latest signal: Hold.\")\n",
    "                \n",
    "                time.sleep(1)\n",
    "            \n",
    "            print(f\"Sleeping for {time_interval} seconds...\")\n",
    "            time.sleep(time_interval)\n",
    "    except KeyboardInterrupt:\n",
    "        print(\"\\nTrading bot stopped by user.\")\n",
    "    except Exception as e:\n",
    "        print(f\"An unexpected error occurred: {e}\")\n",
    "\n",
    "# Run the trading bot\n",
    "if __name__ == \"__main__\":\n",
    "    run_trading_bot()\n"
   ]
  }
 ],
 "metadata": {
  "kernelspec": {
   "display_name": "tf",
   "language": "python",
   "name": "python3"
  },
  "language_info": {
   "codemirror_mode": {
    "name": "ipython",
    "version": 3
   },
   "file_extension": ".py",
   "mimetype": "text/x-python",
   "name": "python",
   "nbconvert_exporter": "python",
   "pygments_lexer": "ipython3",
   "version": "3.9.17"
  }
 },
 "nbformat": 4,
 "nbformat_minor": 2
}
